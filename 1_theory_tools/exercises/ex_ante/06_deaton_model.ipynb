{
 "cells": [
  {
   "cell_type": "code",
   "execution_count": 1,
   "metadata": {},
   "outputs": [],
   "source": [
    "# magics: ensures that any changes to the modules loaded below will be re-loaded automatically\n",
    "%load_ext autoreload\n",
    "%autoreload 2\n",
    "\n",
    "# load general packages\n",
    "import numpy as np\n",
    "import matplotlib.pyplot as plt\n",
    "plt.style.use('seaborn-whitegrid')\n",
    "\n",
    "# load modules related to this exercise\n",
    "import Exercise_6 as ex6\n",
    "import tools as tools"
   ]
  },
  {
   "cell_type": "markdown",
   "metadata": {},
   "source": [
    "# Exercise 6: Gaussian Shock\n",
    "\n",
    "Consider the model\n",
    "$$\\begin{align*}\n",
    "V_{t}(W_{t}) & = & \\max_{C_{t}}\\left\\{ \\frac{C_{t}^{1-\\rho}}{1-\\rho}+\\beta\\mathbb{E}_{t}\\left[V_{t+1}(W_{t+1})\\right]\\right\\} \\\\\n",
    " & \\text{s.t.}\\\\\n",
    "W_{t+1} & = & R(W_{t}-C_{t})+Y_{t+1}\\\\\n",
    "Y_{t+1} & = & \\exp(\\xi_{t+1})\\\\\n",
    "\\xi_{t+1} & = & \\mathcal{N}(0,\\sigma_{\\xi}^{2})\\\\\n",
    "A_{t}=W_{t}-C_{t} & \\geq & 0\n",
    "\\end{align*}$$\n",
    "\n",
    "for $T=10$, $\\beta=0.98$, $\\rho=0.5$, $R=1.0/\\beta$, $W_1=10$ and $\\sigma_{\\xi}=0.2$."
   ]
  },
  {
   "cell_type": "markdown",
   "metadata": {},
   "source": [
    "### 1. Solve it using Gauss-Hermite quadrature for evaluating the expectation. "
   ]
  },
  {
   "cell_type": "code",
   "execution_count": 2,
   "metadata": {},
   "outputs": [],
   "source": [
    "# Setup specifications in class. \n",
    "class par: pass\n",
    "par.beta = 0.98\n",
    "par.rho = 0.5\n",
    "par.R = 1.0/par.beta\n",
    "par.sigma = 0.2\n",
    "par.mu = 0\n",
    "par.W = 10\n",
    "par.T = 10\n",
    "par.num_shocks = 5\n",
    "\n",
    "#Gauss-Hermite nodes and transformation\n",
    "x,w = tools.gauss_hermite(par.num_shocks)\n",
    "par.eps = np.exp(par.sigma*np.sqrt(2)*x) #Change of variable\n",
    "par.eps_w = w/np.sqrt(np.pi) #Corresponding weights\n",
    "\n",
    "# Grid\n",
    "par.num_W = 200\n",
    "par.num_C = 200\n",
    "\n",
    "# Solve the model\n",
    "sol = ex6.solve_consumption_deaton(par)"
   ]
  },
  {
   "cell_type": "markdown",
   "metadata": {},
   "source": [
    "### 2. Plot the consumption function and the value function. See how the optimal consumption and value function varies over time."
   ]
  },
  {
   "cell_type": "code",
   "execution_count": 3,
   "metadata": {},
   "outputs": [
    {
     "data": {
      "image/png": "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\n",
      "text/plain": [
       "<Figure size 720x288 with 2 Axes>"
      ]
     },
     "metadata": {},
     "output_type": "display_data"
    }
   ],
   "source": [
    "# Define a function for the solution\n",
    "def plot_solution(sol,par,t):\n",
    "    fig = plt.figure(figsize=(10,4))# figsize is in inches...\n",
    "    \n",
    "    ax = fig.add_subplot(1,2,1)\n",
    "    ax.scatter(sol.grid_W[:,t],sol.V[:,t])\n",
    "    ax.set_xlabel(f\"$W_{t+1}$\")\n",
    "    ax.set_ylabel(f\"$V_{t+1}$\")\n",
    "    ax.set_ylim(0,30)\n",
    "\n",
    "    ax_right = fig.add_subplot(1,2,2)\n",
    "    ax_right.scatter(sol.grid_W[:,t],sol.C[:,t])\n",
    "    ax_right.plot(sol.grid_W[:,t],sol.grid_W[:,t],color='black',linestyle='dashed')\n",
    "    ax_right.set_xlabel(f\"$W_{t+1}$\")\n",
    "    ax_right.set_ylabel(f\"$C_{t+1}$\")\n",
    "\n",
    "    plt.show()\n",
    "\n",
    "plot_solution(sol,par,0)"
   ]
  },
  {
   "cell_type": "markdown",
   "metadata": {},
   "source": [
    "### 3. Simulate a panel of *N* household for *T* periods and plot the mean of $C_t$. Everybody should be initialized with $W_t = 1.5$. Compare a simulation where $\\sigma_{\\xi}=0.2$ and $\\sigma_{\\xi}=0$. What happens to consumption over time in the two simulations?"
   ]
  },
  {
   "cell_type": "code",
   "execution_count": 4,
   "metadata": {},
   "outputs": [
    {
     "data": {
      "image/png": "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\n",
      "text/plain": [
       "<Figure size 432x288 with 1 Axes>"
      ]
     },
     "metadata": {},
     "output_type": "display_data"
    }
   ],
   "source": [
    "# set-up\n",
    "par.simN = 10000\n",
    "par.W_ini = 1.5\n",
    "\n",
    "# Create a copy of the class\n",
    "class par_sigma_0(par): pass  \n",
    "par_sigma_0.sigma = 0 \n",
    "x,w = tools.gauss_hermite(par_sigma_0.num_shocks)\n",
    "par_sigma_0.eps = np.exp(par_sigma_0.sigma*np.sqrt(2)*x)\n",
    "par_sigma_0.eps_w = w/np.sqrt(np.pi)\n",
    "\n",
    "\n",
    "def simulate(sol, par):\n",
    "    # Allocate\n",
    "    class sim: pass\n",
    "    shape = (par.simN, par.T)\n",
    "    sim.W = par.W_ini*np.ones(shape)\n",
    "    sim.C = np.nan +np.zeros(shape)\n",
    "    \n",
    "    # Simulate \n",
    "    np.random.seed(2022) #Seed value, it ensures that the computer draw the same \"random\"-numbers each time\n",
    "    \n",
    "    for t in range(par.T):\n",
    "        sim.C[:,t] = np.interp(sim.W[:,t],sol.grid_W[:,t],sol.C[:,t])\n",
    "        Y = np.exp(np.random.normal(par.mu, par.sigma, par.simN)) #draw epsilons from log-normal\n",
    "        if t<par.T-1:\n",
    "            sim.W[:,t+1] = par.R*(sim.W[:,t]-sim.C[:,t])+Y\n",
    "    \n",
    "    return sim\n",
    "\n",
    "\n",
    "# Simulation for sigma=0\n",
    "sol_sigma_0 = ex6.solve_consumption_deaton(par_sigma_0)\n",
    "sim_sigma_0 = simulate(sol_sigma_0,par_sigma_0)\n",
    "sim_C_sigma_0 = np.mean(sim_sigma_0.C, axis=0) #Mean over individuals\n",
    "sim_W_sigma_0 = np.mean(sim_sigma_0.W, axis=0) #Mean over individuals\n",
    "\n",
    "\n",
    "# Simulation for sigma=0.2\n",
    "sim = simulate(sol,par)\n",
    "sim_C = np.mean(sim.C, axis=0) #Mean over individuals\n",
    "sim_W = np.mean(sim.W, axis=0) #Mean over individuals\n",
    "\n",
    "#Plot\n",
    "fig = plt.figure(figsize=(10,4))# figsize is in inches...\n",
    "    \n",
    "ax1 = fig.add_subplot(1,2,1)\n",
    "ax1.plot(range(1,par_sigma_0.T+1),sim_C_sigma_0, label='$\\sigma = 0$')\n",
    "ax1.plot(range(1,par.T+1),sim_C, label='$\\sigma = 0.2$')\n",
    "ax1.set_ylabel('$C_t$')\n",
    "ax1.set_xlabel('$t$')\n",
    "ax1.set_title('Consumption')\n",
    "ax1.set_ylim(0.5,1.5)\n",
    "ax1.legend()\n",
    "\n",
    "ax2 = fig.add_subplot(1,2,2)\n",
    "ax2.plot(range(1,par_sigma_0.T+1),sim_W_sigma_0, label='$\\sigma = 0$')\n",
    "ax2.plot(range(1,par.T+1),sim_W, label='$\\sigma = 0.2$')\n",
    "ax2.set_ylabel('$W_t$')\n",
    "ax2.set_xlabel('$t$')\n",
    "ax2.set_title('Cash-in-hand')"
   ]
  },
  {
   "attachments": {},
   "cell_type": "markdown",
   "metadata": {},
   "source": [
    "### 4. Calculate the Euler-error \n",
    "The Euler-equation with uncertainty is given by\n",
    "$$\\begin{align*}\n",
    "  u'(C_{i,t}) = \\beta R E_t[u'(C_{i,t+1})]\n",
    "\\end{align*}$$\n",
    "\n",
    "The Euler-error is the calculated as\n",
    "$$\\begin{align*}\n",
    "  \\varepsilon_{it} \\approx u'(C_{it})-\\beta R \\sum_{j=1}^{S} \\omega_j \\Big[u'\\big(C_{i,t+1}^{\\star}(R(W_{it}-C_{it})+Y_j)\\big)\\Big]\n",
    " \\end{align*}$$\n",
    " and $\\omega_j$ are the Gauss-Hermite weights and $Y_j$ are the associated income nodes.\n",
    "\n",
    "The mean Euler-error is given by\n",
    "$$\\begin{align*}\n",
    " \\frac{1}{\\sum_{i=1}^{N}\\sum_{t=1}^{T}  \\mathbb{1}_{\\{0<C_{it}<W_{it}\\}}}\\sum_{i=1}^{N}\\sum_{t=1}^{T} \\mathbb{1}_{\\{0<C_{it}<W_{it}\\}} |\\varepsilon_{it}|\n",
    " \\end{align*}$$\n",
    "where it must hold that $0<C_{it}<W_{it}$. If $C_{it}=W_{it}$  agents are credit constrained and the Euler equation doesn't hold."
   ]
  },
  {
   "cell_type": "code",
   "execution_count": 5,
   "metadata": {},
   "outputs": [
    {
     "name": "stdout",
     "output_type": "stream",
     "text": [
      "The Euler error:    0.0028\n"
     ]
    }
   ],
   "source": [
    "# Define the marginal utility\n",
    "def marg_util(C,par):\n",
    "    y = C**(-par.rho)\n",
    "    return y\n",
    "\n",
    "\n",
    "# 1. Solve the model\n",
    "sol = ex6.solve_consumption_deaton(par)\n",
    "\n",
    "# 2. simulate\n",
    "sim = simulate(sol,par)\n",
    "\n",
    "# 3. Calculate the Euler residual\n",
    "Euler_residual = np.nan + np.zeros((par.simN,par.T-1))  # Allocate space\n",
    "A = np.nan + np.zeros((par.simN,par.T-1))               # Allocate space\n",
    "\n",
    "\n",
    "for t in range(par.T-1):   # Sum over t (and the sum over N happens in vector notation)\n",
    "    \n",
    "    # Initialize\n",
    "    w = sim.W[:,t]\n",
    "    c = sim.C[:,t]\n",
    "    w_c = w-c\n",
    "    A[:,t] = w_c \n",
    "    \n",
    "    marg_util_next = 0\n",
    "\n",
    "    for s in range(par.num_shocks):\n",
<<<<<<< HEAD
    "                    # weight on the shock \n",
    "                    weight = par.eps_w[s]\n",
    "                    # epsilon shock\n",
    "                    eps = par.eps[s]\n",
    "                    # next period assets\n",
    "                    w_next = par.R*w_c+eps\n",
    "                    c_next = np.interp(w_next,sol.grid_W[:,t+1],sol.C[:,t+1])\n",
=======
    "                    # fill in\n",
    "                    # Hint: Calculate expectations with loop\n",
    "            \n",
    "            \n",
    "            \n",
    "            \n",
    "            \n",
>>>>>>> upstream/main
    "                    \n",
    "                    #Calculate margina utility\n",
    "                    marg_Cnext = marg_util(c_next,par)\n",
    "                    \n",
    "                    marg_util_next +=weight*marg_Cnext\n",
    "             \n",
    "    Euler_residual[:,t] = marg_util(c,par)-par.beta*par.R*marg_util_next\n",
    "\n",
    "# 4. Calculate the average absolute euler residual\n",
    "I = (A>0)   # Only evaluate at the interior solution\n",
    "Euler_error = np.mean(abs(Euler_residual[I]))\n",
    "\n",
    "\n",
    "print(f'The Euler error:    {Euler_error:.4f}')"
   ]
  },
  {
   "attachments": {},
   "cell_type": "markdown",
   "metadata": {},
   "source": [
    "### 7. Likewise calculate the normalized Euler-error\n",
    "\n",
    "\n",
    "$$\\begin{align*}\n",
    " \\frac{1}{\\sum_{i=1}^{N}\\sum_{t=1}^{T} \\mathbb{1}_{\\{0<C_1<W_{it}\\}}}\\sum_{i=1}^{N}\\sum_{t=1}^{T} log_{10}(|\\varepsilon_{it}| / C_{it}) \\mathbb{1}_{0<C_1<W_{it}} \n",
    " \\end{align*}$$\n",
    "\n",
    "and discuss what this implies for the accuracy of the solution."
   ]
  },
  {
   "cell_type": "code",
   "execution_count": 6,
   "metadata": {},
   "outputs": [
    {
     "name": "stdout",
     "output_type": "stream",
     "text": [
      "The Normalized Euler error:    -2.8069\n"
     ]
    }
   ],
   "source": [
    "C =(sim.C[:,0:par.T-1])  # The euler error is not defined in last period\n",
    "\n",
    "nom_Euler_error = np.log10(abs(Euler_residual[I])/(C[I]))   \n",
    "nom_Euler_error = np.mean(nom_Euler_error)\n",
    "\n",
    "\n",
    "print(f'The Normalized Euler error:    {nom_Euler_error:.4f}')"
   ]
  },
  {
   "cell_type": "markdown",
   "metadata": {},
   "source": [
    "### 8. Look at how the Euler-errors change when you vary the number of grid points. "
   ]
  },
  {
   "cell_type": "code",
   "execution_count": 7,
   "metadata": {},
   "outputs": [],
   "source": [
    "# Define functions\n",
    "\n",
    "#Function for Setup\n",
    "def setup():\n",
    "    class par: pass\n",
    "    par.beta = 0.98\n",
    "    par.rho = 0.5\n",
    "    par.R = 1.0/par.beta\n",
    "    par.sigma = 0.2\n",
    "    par.mu = 0\n",
    "    par.W = 50\n",
    "    par.T = 10\n",
    "    \n",
    "    par.num_shocks = 5\n",
    "    x,w = tools.gauss_hermite(par.num_shocks)\n",
    "    par.eps = np.exp(par.sigma*np.sqrt(2)*x)\n",
    "    par.eps_w = w/np.sqrt(np.pi)\n",
    "    \n",
    "    # Grid\n",
    "    par.num_W = 200\n",
    "    par.num_C = 200\n",
    "\n",
    "    # Simulation parameters\n",
    "    par.simN = 10000\n",
    "    par.W_ini = 1.5\n",
    "    \n",
    "    return par\n",
    "\n",
    "#Function for Euler Error\n",
    "def Euler_error(par, sol, sim):\n",
    "    Euler_residual = np.nan + np.zeros((par.simN,par.T-1))  # Allocate space\n",
    "    A = np.nan + np.zeros((par.simN,par.T-1))               # Allocate space\n",
    "    \n",
    "    for t in range(par.T-1):   # Sum over t (and the sum over N happens in vector notation)\n",
    "        \n",
    "        # Initialize\n",
    "        w = sim.W[:,t]\n",
    "        c = sim.C[:,t]\n",
    "        w_c = w-c\n",
    "        A[:,t] = w_c \n",
    "        \n",
    "        marg_util_next = 0\n",
    "    \n",
    "        for s in range(par.num_shocks):\n",
    "                    # weight on the shock \n",
    "                    weight = par.eps_w[s]\n",
    "                    # epsilon shock\n",
    "                    eps = par.eps[s]\n",
    "                    # next period assets\n",
    "                    w_next = par.R*w_c+eps\n",
    "                    c_next = np.interp(w_next,sol.grid_W[:,t+1],sol.C[:,t+1])\n",
    "                    \n",
    "                    #Calculate margina utility\n",
    "                    marg_Cnext = marg_util(c_next,par)\n",
    "                    \n",
    "                    marg_util_next +=weight*marg_Cnext\n",
    "                                       \n",
    "                        \n",
    "        Euler_residual[:,t] = marg_util(c,par)-par.beta*par.R*marg_util_next\n",
    "    \n",
    "    \n",
    "    I = (A>0)   \n",
    "    Euler_error = np.mean(abs(Euler_residual[I]))\n",
    "    \n",
    "    C =(sim.C[:,0:par.T-1])\n",
    "\n",
    "    nom_Euler_error = np.log10(abs(Euler_residual[I])/(C[I]))   \n",
    "    nom_Euler_error = np.mean(nom_Euler_error)\n",
    "    \n",
    "    print(f'Number of grid points:         {par.num_W} ')\n",
    "    print(f'The Euler error:               {Euler_error:.4f}')\n",
    "    print(f'The Normalized Euler error:    {nom_Euler_error:.4f}', end ='\\n\\n')"
   ]
  },
  {
   "cell_type": "code",
   "execution_count": 8,
   "metadata": {},
   "outputs": [
    {
     "name": "stdout",
     "output_type": "stream",
     "text": [
      "Number of grid points:         10 \n",
      "The Euler error:               1.0492\n",
      "The Normalized Euler error:    -0.2190\n",
      "\n",
      "Number of grid points:         20 \n",
      "The Euler error:               0.5420\n",
      "The Normalized Euler error:    -0.4775\n",
      "\n",
      "Number of grid points:         40 \n",
      "The Euler error:               0.1975\n",
      "The Normalized Euler error:    -0.8815\n",
      "\n",
      "Number of grid points:         50 \n",
      "The Euler error:               0.1250\n",
      "The Normalized Euler error:    -1.0642\n",
      "\n",
      "Number of grid points:         70 \n",
      "The Euler error:               0.0573\n",
      "The Normalized Euler error:    -1.3704\n",
      "\n",
      "Number of grid points:         100 \n",
      "The Euler error:               0.0245\n",
      "The Normalized Euler error:    -1.7326\n",
      "\n",
      "Number of grid points:         1000 \n",
      "The Euler error:               0.0026\n",
      "The Normalized Euler error:    -2.8652\n",
      "\n"
     ]
    }
   ],
   "source": [
    "# Find the Euler Error for different grid points\n",
    "\n",
    "#Array of grid points    \n",
    "grid_points = np.array([10,20,40,50,70,100,1000])\n",
    "\n",
    "for i,grid_point in enumerate(grid_points):\n",
    "    # setup\n",
    "    pars = setup()\n",
    "    pars.num_W = grid_point\n",
    "    \n",
    "    # solve\n",
    "    sols = ex6.solve_consumption_deaton(pars)\n",
    "\n",
    "\n",
    "    # simulate\n",
    "    sims = simulate(sol, pars)\n",
    "\n",
    "    # calculate the errors\n",
    "    Euler_error(pars, sols, sims)"
   ]
  }
 ],
 "metadata": {
  "kernelspec": {
   "display_name": "Python 3 (ipykernel)",
   "language": "python",
   "name": "python3"
  },
  "language_info": {
   "codemirror_mode": {
    "name": "ipython",
    "version": 3
   },
   "file_extension": ".py",
   "mimetype": "text/x-python",
   "name": "python",
   "nbconvert_exporter": "python",
   "pygments_lexer": "ipython3",
   "version": "3.9.7"
  },
  "vscode": {
   "interpreter": {
    "hash": "e426bf05754cca8d7bd83a0dce81a672af178a75fe45d0c3ca2f6c8ec8bbe319"
   }
  }
 },
 "nbformat": 4,
 "nbformat_minor": 4
}
